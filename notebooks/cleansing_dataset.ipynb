{
 "cells": [
  {
   "cell_type": "markdown",
   "id": "cb24273d",
   "metadata": {},
   "source": [
    "# Cleansing Iris Dataset "
   ]
  },
  {
   "cell_type": "markdown",
   "id": "5a08974f",
   "metadata": {},
   "source": [
    "This step **was not necessary** with a small dataset such as the Iris dataset.\n",
    "* There is no Null or Missing Data (NaN values)\n",
    "* Outlier data is very limited (and does not distort data results)\n",
    "* Data types are consistent across columns\n",
    "* There is no duplication of data   \n",
    "* All data is valid and there is no erroneous data   "
   ]
  },
  {
   "cell_type": "markdown",
   "id": "6d605828",
   "metadata": {},
   "source": [
    "ref: https://www.datacamp.com/tutorial/guide-to-data-cleaning-in-python"
   ]
  }
 ],
 "metadata": {
  "language_info": {
   "name": "python"
  }
 },
 "nbformat": 4,
 "nbformat_minor": 5
}
