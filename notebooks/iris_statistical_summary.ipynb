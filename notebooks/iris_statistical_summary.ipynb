{
 "cells": [
  {
   "cell_type": "markdown",
   "metadata": {},
   "source": [
    "# Generating Iris Statistics"
   ]
  },
  {
   "cell_type": "markdown",
   "metadata": {},
   "source": [
    "Load modules ...\n",
    "* pandas (for dataframe)\n",
    "* numpy (for most statistical functions)\n",
    "* scipy.stats (for advanced statistical functions)    https://docs.scipy.org/doc/scipy/reference/stats.html\n",
    "* nbformat (for generating jupyter notebooks)  https://nbformat.readthedocs.io/_/downloads/en/5.0.6/pdf/"
   ]
  },
  {
   "cell_type": "code",
   "execution_count": 1,
   "metadata": {},
   "outputs": [],
   "source": [
    "import numpy as np\n",
    "import pandas as pd\n",
    "import scipy.stats as ss\n",
    "import nbformat as nbf"
   ]
  },
  {
   "cell_type": "markdown",
   "metadata": {},
   "source": [
    "If opting to load an external csv file that maybe prone to errors with\n",
    "* missing files or bad paths\n",
    "* 0kb file (Empty)\n",
    "* Invalid csv data format\n",
    "* other unexpected errors (permissions, corrupt files,etc.)   \n",
    "\n",
    "when dealing with such files, we need to ensure that any errors are handled correctly by code."
   ]
  },
  {
   "cell_type": "code",
   "execution_count": 2,
   "metadata": {},
   "outputs": [],
   "source": [
    "\n",
    "\n",
    "#Load comma separated file with error handling\n",
    "def load_csv(str_filepath):\n",
    "    try:\n",
    "        data_df = pd.read_csv(filepath)\n",
    "        data_df.head()\n",
    "        #return dataframe\n",
    "        return data_df\n",
    "    except FileNotFoundError:\n",
    "        print(f\"The file path '{str_filepath}' does not exist.\")\n",
    "    except pd.errors.EmptyDataError:\n",
    "        print(f\"The file '{str_filepath}' is empty.\")\n",
    "    except pd.errors.ParserError:\n",
    "        print(f\"The file '{str_filepath}' data is not in a valid comma-separated-file format and cannot be read.\")\n",
    "    except PermissionError:\n",
    "        print(f\"Permission denied to Read '{str_filepath}'.\")\n",
    "    except Exception as ex:\n",
    "        print(f\"An unexpected error occurred while loading file {str_filepath} : {ex}\")\n",
    "\n",
    "filepath = \"resources/iris.csv\"\n",
    "iris_df = load_csv(filepath) #returns a dataframe"
   ]
  },
  {
   "cell_type": "markdown",
   "metadata": {},
   "source": [
    "There are multiple statistical functions provided with the numpy and scipy.stats modules.  \n",
    "The following statistical insights are performed on data to get an overview of the distribution, central tendency, and variability of the data.\n",
    "1. Mean (Average):\n",
    "2. Median (Middle Value):\n",
    "3. Standard Deviation (Spread of Data):\n",
    "4. Variance:\n",
    "5. Min and Max (Range of Data):\n",
    "6. Skewness (asymmetry of data distribution)\n",
    "7. Kurtosis (degree of outlier data)\n",
    "8. Interquartile Range (IQR Q3 - Q1):"
   ]
  },
  {
   "cell_type": "code",
   "execution_count": 3,
   "metadata": {},
   "outputs": [
    {
     "name": "stdout",
     "output_type": "stream",
     "text": [
      "{'feature': 'sepal.length', 'mean': 5.843333333333334, 'median': 5.8, 'std': 0.8253012917851409, 'var': 0.6811222222222222, 'min': 4.3, 'max': 7.9, 'skewness': 0.3117530585022963, 'kurt': -0.5735679489249765, 'q1': 5.1, 'q3': 6.4}\n"
     ]
    }
   ],
   "source": [
    "#function to return a full range of statistics on a given feature_name\n",
    "# Explicitly declare a string and a numpy.ndarray as input and return a dictionary with the full set of the results \n",
    "def getStatistics(feature_name:str, feature_arr: np.ndarray):\n",
    "    fname = feature_name\n",
    "    mean = np.mean(feature_arr)\n",
    "    median = np.median(feature_arr)\n",
    "    std = np.std(feature_arr)\n",
    "    var = np.var(feature_arr)\n",
    "    min = np.min(feature_arr)\n",
    "    max = np.max(feature_arr)\n",
    "    skewness = ss.skew(feature_arr)\n",
    "    kurt = ss.kurtosis(feature_arr)\n",
    "    q1 = np.percentile(feature_arr, 25)\n",
    "    q3 = np.percentile(feature_arr, 75)\n",
    "    dict_stats = {\n",
    "        \"feature\" : fname,\n",
    "        \"mean\" : mean,\n",
    "        \"median\" : median,\n",
    "        \"std\" : std,\n",
    "        \"var\" : var,\n",
    "        \"min\" : min,\n",
    "        \"max\" : max,\n",
    "        \"skewness\" : skewness,\n",
    "        \"kurt\" : kurt,\n",
    "        \"q1\" : q1,\n",
    "        \"q3\" : q3\n",
    "    }\n",
    "\n",
    "    return dict_stats\n",
    "\n",
    "str_feature = \"sepal.length\"\n",
    "arr_feature = iris_df[str_feature]\n",
    "stats = getStatistics(str_feature, arr_feature)\n",
    "\n",
    "print(stats)"
   ]
  },
  {
   "cell_type": "markdown",
   "metadata": {},
   "source": [
    "For a given dataset, output all statistical results to a formatted **jupyter notepad file**, and print out results in a neat and structured presentation with formatted markup"
   ]
  },
  {
   "cell_type": "code",
   "execution_count": null,
   "metadata": {},
   "outputs": [
    {
     "name": "stdout",
     "output_type": "stream",
     "text": [
      "Statistical Results successfully written to notebook Results.ipynb\n"
     ]
    }
   ],
   "source": [
    "def outputStatsToNotebook(file_name: str, arr_stats:list):\n",
    "    # Create a new notebook object\n",
    "    nb = nbf.v4.new_notebook()\n",
    "    # Create the first header cell\n",
    "    text = \"# <font color='sky blue'>Statistical Summary of dataset</font>    \\nThese are the statistical insights into each feature of dataset.\"\"\"\n",
    "    header_cell = nbf.v4.new_markdown_cell(text)\n",
    "    nb['cells'].append(header_cell)\n",
    "\n",
    "    try:\n",
    "        with open(file_name, 'w') as f:\n",
    "            # Open the file in write mode. If the file doesn't exist, it will be created.\n",
    "            feature_text = ''\n",
    "            for feature_stats_dict in arr_stats:\n",
    "                \n",
    "                feature_text += f\"**Feature : <font color='crimson'>{feature_stats_dict[\"feature\"]}</font>**   \\n\"\n",
    "                feature_text += f\"Mean : {feature_stats_dict[\"mean\"]:.3f}  \\n\"\n",
    "                feature_text += f\"Median : {feature_stats_dict[\"median\"]:.3f}  \\n\"\n",
    "                feature_text += f\"Standard Deviation : {feature_stats_dict[\"std\"]:.3f}  \\n\"\n",
    "                feature_text += f\"Variance : {feature_stats_dict[\"var\"]:.3f}  \\n\"\n",
    "                feature_text += f\"Minimum : {feature_stats_dict[\"min\"]:.3f}  \\n\"\n",
    "                feature_text += f\"Maximum : {feature_stats_dict[\"max\"]:.3f}  \\n\"\n",
    "                feature_text += f\"Skewness : {feature_stats_dict[\"skewness\"]:.3f}  \\n\"\n",
    "                feature_text += f\"Kurtosis  : {feature_stats_dict[\"kurt\"]:.3f}  \\n\"\n",
    "                feature_text += f\"Interquartile Range  75th percentile(Q3) : {feature_stats_dict[\"q1\"]:.3f}  \\n\"\n",
    "                feature_text += f\"Interquartile Range  25th percentile(Q1) : {feature_stats_dict[\"q3\"]:.3f}  \\n  \\n\"\n",
    "            feature_cell = nbf.v4.new_markdown_cell(feature_text)\n",
    "            nb['cells'].append(feature_cell)\n",
    "            nbf.write(nb, f)\n",
    "        print(f\"Statistical Results successfully written to notebook {file_name}\")\n",
    "    except FileNotFoundError:\n",
    "        # This occurs if the file path is invalid or directory is not found \n",
    "        # ... but file will be created if initially it does not exist\n",
    "        print(f\"The file path '{file_name}' was not found.\")\n",
    "    except PermissionError:\n",
    "        # This occurs if the user has no write permission on the file\n",
    "        print(f\"Permission denied to write to '{file_name}'.\")\n",
    "    except IOError as e:\n",
    "        # This catches any other IO-related errors (e.g., disk full, etc.)\n",
    "        print(f\"IOError occurred: {e}\")\n",
    "    except Exception as e:\n",
    "        # Catch any other unforeseen exceptions\n",
    "        print(f\"An unexpected error occurred: {e}\")\n",
    "\n",
    "\n",
    "\n",
    "#drop the 'variety' column ... no need for stats\n",
    "my_iris = iris_df.drop('variety', axis=1) \n",
    "\n",
    "#get a statistical results for all features and add to a list collection\n",
    "iris_stats = []\n",
    "for str_feature in my_iris.columns:\n",
    "    arr_feature = iris_df[str_feature]\n",
    "    iris_stats.append(getStatistics(str_feature, arr_feature))\n",
    "\n",
    "#send list to function to generate a markdown formatted notepad\n",
    "outputStatsToNotebook('Results_Iris.ipynb', iris_stats)\n",
    "\n"
   ]
  }
 ],
 "metadata": {
  "kernelspec": {
   "display_name": "base",
   "language": "python",
   "name": "python3"
  },
  "language_info": {
   "codemirror_mode": {
    "name": "ipython",
    "version": 3
   },
   "file_extension": ".py",
   "mimetype": "text/x-python",
   "name": "python",
   "nbconvert_exporter": "python",
   "pygments_lexer": "ipython3",
   "version": "3.12.7"
  }
 },
 "nbformat": 4,
 "nbformat_minor": 2
}
